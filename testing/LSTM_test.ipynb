{
 "cells": [
  {
   "cell_type": "code",
   "execution_count": 1,
   "metadata": {
    "colab": {
     "base_uri": "https://localhost:8080/",
     "height": 34
    },
    "id": "fdQvjZgJSh4z",
    "outputId": "392756c4-dff1-4d1a-edd0-0a5febec5adc"
   },
   "outputs": [
    {
     "name": "stdout",
     "output_type": "stream",
     "text": [
      "Mounted at /content/drive\n"
     ]
    }
   ],
   "source": [
    "from google.colab import drive\n",
    "drive.mount('/content/drive')\n",
    "path = '' # path of test file"
   ]
  },
  {
   "cell_type": "code",
   "execution_count": 3,
   "metadata": {
    "id": "HJcMfVcuSmlR"
   },
   "outputs": [],
   "source": [
    "import csv\n",
    "import tensorflow as tf\n",
    "import numpy as np\n",
    "from keras.preprocessing.text import Tokenizer\n",
    "from keras.preprocessing.sequence import pad_sequences\n",
    "from sklearn.metrics import classification_report, accuracy_score, confusion_matrix"
   ]
  },
  {
   "cell_type": "code",
   "execution_count": 4,
   "metadata": {
    "id": "hhS6eqMXSw8u"
   },
   "outputs": [],
   "source": [
    "# params\n",
    "vocab_size = 50000\n",
    "embedding_dim = 64\n",
    "max_length = 50\n",
    "trunc_type = 'post'\n",
    "padding_type = 'post'\n",
    "oov_tok = '<OOV>'"
   ]
  },
  {
   "cell_type": "code",
   "execution_count": 6,
   "metadata": {
    "id": "ta6UOsr_YQeB"
   },
   "outputs": [],
   "source": [
    "# Classification labels \n",
    "\n",
    "POLARITY = [\"POSITIVE\", \"NEUTRAL\", \"NEGATIVE\"]"
   ]
  },
  {
   "cell_type": "code",
   "execution_count": 9,
   "metadata": {
    "id": "BErZTRtzS7Ez"
   },
   "outputs": [],
   "source": [
    "# Convert the text into sequences of words and pad the sequences\n",
    "def text_to_seq(data):\n",
    "  tokenizer = Tokenizer(num_words=vocab_size, oov_token=oov_tok)\n",
    "  tokenizer.fit_on_texts(data)\n",
    "  data_sequences = tokenizer.texts_to_sequences(data)\n",
    "  padded_sequences = pad_sequences(data_sequences, maxlen=max_length, padding=padding_type, truncating=trunc_type)\n",
    "  return padded_sequences"
   ]
  },
  {
   "cell_type": "code",
   "execution_count": 10,
   "metadata": {
    "id": "1fIZlvAoo7Ak"
   },
   "outputs": [],
   "source": [
    "sentences = []\n",
    "polarity_label = []\n",
    "\n",
    "# Open the test file for predictions\n",
    "with open(path + \"data.txt\") as data:\n",
    "    reader = csv.reader(data, delimiter=\"\\t\")\n",
    "    for row in reader:\n",
    "        sentences.append(row[1])\n",
    "        polarity_label.append(row[2].strip())\n"
   ]
  },
  {
   "cell_type": "code",
   "execution_count": 11,
   "metadata": {
    "id": "VVHOA_zKxvlP"
   },
   "outputs": [],
   "source": [
    "padded_sentences = text_to_seq(sentences)"
   ]
  },
  {
   "cell_type": "code",
   "execution_count": 12,
   "metadata": {
    "id": "P0K1svu1pLKo"
   },
   "outputs": [],
   "source": [
    "# Load the Trained model\n",
    "polarity_classifier = tf.keras.models.load_model(path + \"polarity\");"
   ]
  },
  {
   "cell_type": "code",
   "execution_count": 13,
   "metadata": {
    "id": "cNlkBRa_qOub"
   },
   "outputs": [],
   "source": [
    "def classify(sentence):\n",
    "  polarity = polarity_classifier.predict(sentence)\n",
    "\n",
    "  polarity = [POLARITY[i] for i in list(map(lambda pol: np.argmax(pol), polarity))]\n",
    "\n",
    "  return polarity"
   ]
  },
  {
   "cell_type": "code",
   "execution_count": 14,
   "metadata": {
    "id": "LugLXMDgppef"
   },
   "outputs": [],
   "source": [
    "# Classify each sentence and write it to the output file\n",
    "with open(path + \"output.txt\", \"w\") as output:\n",
    "    polarity = classify(padded_sentences)\n",
    "    for index in range(len(sentences)):\n",
    "        # Write to the file\n",
    "        output.write(str(index))\n",
    "        output.write(\"\\t\")\n",
    "        output.write(sentences[index])\n",
    "        output.write(\"\\t\")\n",
    "\n",
    "        output.write(polarity[index])\n",
    "        output.write(\"\\t\")\n"
   ]
  },
  {
   "cell_type": "markdown",
   "metadata": {
    "id": "aYi77jIQDnZd"
   },
   "source": []
  },
  {
   "cell_type": "markdown",
   "metadata": {
    "id": "2PGDkyZZ7Kpy"
   },
   "source": [
    "### Analyze the performance of the model for each task\n"
   ]
  },
  {
   "cell_type": "code",
   "execution_count": 15,
   "metadata": {
    "id": "LbZ7kjTj6XWd"
   },
   "outputs": [],
   "source": [
    "def statistics(actual_list, predicted_list):\n",
    "    #Confusion Metrics\n",
    "    print(\"Confusion Metrics: \")\n",
    "    print(confusion_matrix(actual_list, predicted_list))\n",
    "\n",
    "    #Classificatio Report\n",
    "    print(\"Classification Report: \")\n",
    "    print(classification_report(actual_list, predicted_list))\n",
    "    \n",
    "    print()\n",
    "    \n",
    "    #Accuracy score\n",
    "    print(\"Accuracy Score \", (accuracy_score(actual_list, predicted_list)) * 100)"
   ]
  },
  {
   "cell_type": "code",
   "execution_count": null,
   "metadata": {
    "colab": {
     "base_uri": "https://localhost:8080/",
     "height": 302
    },
    "id": "xwU2cXqu6kOw",
    "outputId": "9d595df5-3fde-4dc3-b5ce-5c89d34b7923"
   },
   "outputs": [
    {
     "name": "stdout",
     "output_type": "stream",
     "text": [
      "Confusion Metrics: \n",
      "[[1274    0    8]\n",
      " [  18  176   10]\n",
      " [  28    0 1046]]\n",
      "Classification Report: \n",
      "              precision    recall  f1-score   support\n",
      "\n",
      "    NEGATIVE       0.97      0.99      0.98      1282\n",
      "     NEUTRAL       1.00      0.86      0.93       204\n",
      "    POSITIVE       0.98      0.97      0.98      1074\n",
      "\n",
      "    accuracy                           0.97      2560\n",
      "   macro avg       0.98      0.94      0.96      2560\n",
      "weighted avg       0.98      0.97      0.97      2560\n",
      "\n",
      "\n",
      "Accuracy Score  97.5\n"
     ]
    }
   ],
   "source": [
    "# Print the statistics for Task 2\n",
    "statistics(polarity_label, polarity)"
   ]
  }
 ],
 "metadata": {
  "colab": {
   "collapsed_sections": [],
   "name": "LSTM-test.ipynb",
   "provenance": []
  },
  "kernelspec": {
   "display_name": "Python 3",
   "language": "python",
   "name": "python3"
  },
  "language_info": {
   "codemirror_mode": {
    "name": "ipython",
    "version": 3
   },
   "file_extension": ".py",
   "mimetype": "text/x-python",
   "name": "python",
   "nbconvert_exporter": "python",
   "pygments_lexer": "ipython3",
   "version": "3.8.5"
  }
 },
 "nbformat": 4,
 "nbformat_minor": 1
}
